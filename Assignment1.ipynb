{
 "cells": [
  {
   "cell_type": "markdown",
   "metadata": {},
   "source": [
    "# Assignment 1. Opinion Polling\n",
    "\n",
    "In this assignment, you will be expected to analyze a dataset on your own and answer questions about your findings. \n",
    "\n",
    "You’ve been hired as a consultant to predict how a state school board election will turn out.\n",
    "* There are three candidates and all voters must vote for one of them: Pearle Goodman, Masako Holley, Genevieve Gallegos.\n",
    "* The candidate with the final highest vote count wins the election.\n",
    "* You are given the list of registered voters here:\n",
    "https://github.com/sjyk/cmsc21800/blob/master/voters.csv\n",
    "* The state gives you two samples of data one collected by SurveyMonkey and one collected by Qualtrics:\n",
    "https://github.com/sjyk/cmsc21800/blob/master/survey_monkey.csv \n",
    "https://github.com/sjyk/cmsc21800/blob/master/qualtrics.csv\n",
    "\n",
    "## Initial Steps\n",
    "Let's first get our data analysis environment setup by loading all of the datasets:"
   ]
  },
  {
   "cell_type": "code",
   "execution_count": 33,
   "metadata": {},
   "outputs": [],
   "source": [
    "import pandas as pd\n",
    "\n",
    "voter_roll = pd.read_csv('voters.csv') #reads the data as a csv file"
   ]
  },
  {
   "cell_type": "code",
   "execution_count": 34,
   "metadata": {},
   "outputs": [
    {
     "data": {
      "text/html": [
       "<div>\n",
       "<style scoped>\n",
       "    .dataframe tbody tr th:only-of-type {\n",
       "        vertical-align: middle;\n",
       "    }\n",
       "\n",
       "    .dataframe tbody tr th {\n",
       "        vertical-align: top;\n",
       "    }\n",
       "\n",
       "    .dataframe thead th {\n",
       "        text-align: right;\n",
       "    }\n",
       "</style>\n",
       "<table border=\"1\" class=\"dataframe\">\n",
       "  <thead>\n",
       "    <tr style=\"text-align: right;\">\n",
       "      <th></th>\n",
       "      <th>Voter</th>\n",
       "      <th>Vote</th>\n",
       "    </tr>\n",
       "  </thead>\n",
       "  <tbody>\n",
       "    <tr>\n",
       "      <th>0</th>\n",
       "      <td>Robert Wiltse</td>\n",
       "      <td>Genevieve Gallegos</td>\n",
       "    </tr>\n",
       "    <tr>\n",
       "      <th>1</th>\n",
       "      <td>Ellen Delrio</td>\n",
       "      <td>Pearle Goodman</td>\n",
       "    </tr>\n",
       "    <tr>\n",
       "      <th>2</th>\n",
       "      <td>Armando Dawson</td>\n",
       "      <td>Genevieve Gallegos</td>\n",
       "    </tr>\n",
       "    <tr>\n",
       "      <th>3</th>\n",
       "      <td>Sarah Ybarra</td>\n",
       "      <td>Masako Holley</td>\n",
       "    </tr>\n",
       "    <tr>\n",
       "      <th>4</th>\n",
       "      <td>Roger Taylor</td>\n",
       "      <td>Genevieve Gallegos</td>\n",
       "    </tr>\n",
       "    <tr>\n",
       "      <th>5</th>\n",
       "      <td>Ricky Applewhite</td>\n",
       "      <td>Genevieve Gallegos</td>\n",
       "    </tr>\n",
       "    <tr>\n",
       "      <th>6</th>\n",
       "      <td>Rufus Harrison</td>\n",
       "      <td>Genevieve Gallegos</td>\n",
       "    </tr>\n",
       "    <tr>\n",
       "      <th>7</th>\n",
       "      <td>Emmitt Engelking</td>\n",
       "      <td>Genevieve Gallegos</td>\n",
       "    </tr>\n",
       "    <tr>\n",
       "      <th>8</th>\n",
       "      <td>Michael Curry</td>\n",
       "      <td>Masako Holley</td>\n",
       "    </tr>\n",
       "    <tr>\n",
       "      <th>9</th>\n",
       "      <td>Elmer Jones</td>\n",
       "      <td>Genevieve Gallegos</td>\n",
       "    </tr>\n",
       "  </tbody>\n",
       "</table>\n",
       "</div>"
      ],
      "text/plain": [
       "              Voter                Vote\n",
       "0     Robert Wiltse  Genevieve Gallegos\n",
       "1      Ellen Delrio      Pearle Goodman\n",
       "2    Armando Dawson  Genevieve Gallegos\n",
       "3      Sarah Ybarra       Masako Holley\n",
       "4      Roger Taylor  Genevieve Gallegos\n",
       "5  Ricky Applewhite  Genevieve Gallegos\n",
       "6    Rufus Harrison  Genevieve Gallegos\n",
       "7  Emmitt Engelking  Genevieve Gallegos\n",
       "8     Michael Curry       Masako Holley\n",
       "9       Elmer Jones  Genevieve Gallegos"
      ]
     },
     "execution_count": 34,
     "metadata": {},
     "output_type": "execute_result"
    }
   ],
   "source": [
    "survey_monkey = pd.read_csv('survey_monkey.csv')\n",
    "qualtrics = pd.read_csv('qualtrics.csv')\n",
    "\n",
    "survey_monkey[:10]"
   ]
  },
  {
   "cell_type": "code",
   "execution_count": 40,
   "metadata": {},
   "outputs": [
    {
     "data": {
      "text/plain": [
       "{'Genevieve Gallegos', 'Masako Holley', 'Pearle Goodman'}"
      ]
     },
     "execution_count": 40,
     "metadata": {},
     "output_type": "execute_result"
    }
   ],
   "source": [
    "candidates = set(survey_monkey['Vote']).union(set(qualtrics['Vote']))\n",
    "candidates"
   ]
  },
  {
   "cell_type": "code",
   "execution_count": 14,
   "metadata": {},
   "outputs": [
    {
     "data": {
      "text/html": [
       "<div>\n",
       "<style scoped>\n",
       "    .dataframe tbody tr th:only-of-type {\n",
       "        vertical-align: middle;\n",
       "    }\n",
       "\n",
       "    .dataframe tbody tr th {\n",
       "        vertical-align: top;\n",
       "    }\n",
       "\n",
       "    .dataframe thead th {\n",
       "        text-align: right;\n",
       "    }\n",
       "</style>\n",
       "<table border=\"1\" class=\"dataframe\">\n",
       "  <thead>\n",
       "    <tr style=\"text-align: right;\">\n",
       "      <th></th>\n",
       "      <th>Voter</th>\n",
       "    </tr>\n",
       "    <tr>\n",
       "      <th>Vote</th>\n",
       "      <th></th>\n",
       "    </tr>\n",
       "  </thead>\n",
       "  <tbody>\n",
       "    <tr>\n",
       "      <th>Genevieve Gallegos</th>\n",
       "      <td>0.59</td>\n",
       "    </tr>\n",
       "    <tr>\n",
       "      <th>Masako Holley</th>\n",
       "      <td>0.35</td>\n",
       "    </tr>\n",
       "    <tr>\n",
       "      <th>Pearle Goodman</th>\n",
       "      <td>0.06</td>\n",
       "    </tr>\n",
       "  </tbody>\n",
       "</table>\n",
       "</div>"
      ],
      "text/plain": [
       "                    Voter\n",
       "Vote                     \n",
       "Genevieve Gallegos   0.59\n",
       "Masako Holley        0.35\n",
       "Pearle Goodman       0.06"
      ]
     },
     "execution_count": 14,
     "metadata": {},
     "output_type": "execute_result"
    }
   ],
   "source": [
    "#How do you get the fraction for each candidate in survey monkey?"
   ]
  },
  {
   "cell_type": "code",
   "execution_count": 15,
   "metadata": {},
   "outputs": [
    {
     "data": {
      "text/html": [
       "<div>\n",
       "<style scoped>\n",
       "    .dataframe tbody tr th:only-of-type {\n",
       "        vertical-align: middle;\n",
       "    }\n",
       "\n",
       "    .dataframe tbody tr th {\n",
       "        vertical-align: top;\n",
       "    }\n",
       "\n",
       "    .dataframe thead th {\n",
       "        text-align: right;\n",
       "    }\n",
       "</style>\n",
       "<table border=\"1\" class=\"dataframe\">\n",
       "  <thead>\n",
       "    <tr style=\"text-align: right;\">\n",
       "      <th></th>\n",
       "      <th>Voter</th>\n",
       "    </tr>\n",
       "    <tr>\n",
       "      <th>Vote</th>\n",
       "      <th></th>\n",
       "    </tr>\n",
       "  </thead>\n",
       "  <tbody>\n",
       "    <tr>\n",
       "      <th>Genevieve Gallegos</th>\n",
       "      <td>0.42</td>\n",
       "    </tr>\n",
       "    <tr>\n",
       "      <th>Masako Holley</th>\n",
       "      <td>0.50</td>\n",
       "    </tr>\n",
       "    <tr>\n",
       "      <th>Pearle Goodman</th>\n",
       "      <td>0.08</td>\n",
       "    </tr>\n",
       "  </tbody>\n",
       "</table>\n",
       "</div>"
      ],
      "text/plain": [
       "                    Voter\n",
       "Vote                     \n",
       "Genevieve Gallegos   0.42\n",
       "Masako Holley        0.50\n",
       "Pearle Goodman       0.08"
      ]
     },
     "execution_count": 15,
     "metadata": {},
     "output_type": "execute_result"
    }
   ],
   "source": [
    "#How do you get the fraction for each candidate in qualtrics"
   ]
  },
  {
   "cell_type": "code",
   "execution_count": 21,
   "metadata": {},
   "outputs": [
    {
     "data": {
      "text/html": [
       "<div>\n",
       "<style scoped>\n",
       "    .dataframe tbody tr th:only-of-type {\n",
       "        vertical-align: middle;\n",
       "    }\n",
       "\n",
       "    .dataframe tbody tr th {\n",
       "        vertical-align: top;\n",
       "    }\n",
       "\n",
       "    .dataframe thead th {\n",
       "        text-align: right;\n",
       "    }\n",
       "</style>\n",
       "<table border=\"1\" class=\"dataframe\">\n",
       "  <thead>\n",
       "    <tr style=\"text-align: right;\">\n",
       "      <th></th>\n",
       "      <th>Voter</th>\n",
       "      <th>Vote</th>\n",
       "      <th>Gender</th>\n",
       "      <th>Age</th>\n",
       "      <th>County</th>\n",
       "    </tr>\n",
       "  </thead>\n",
       "  <tbody>\n",
       "    <tr>\n",
       "      <th>0</th>\n",
       "      <td>Michael Thomas</td>\n",
       "      <td>Masako Holley</td>\n",
       "      <td>male</td>\n",
       "      <td>36-45</td>\n",
       "      <td>Mountain Farm</td>\n",
       "    </tr>\n",
       "    <tr>\n",
       "      <th>1</th>\n",
       "      <td>Jeri Cowley</td>\n",
       "      <td>Genevieve Gallegos</td>\n",
       "      <td>female</td>\n",
       "      <td>36-45</td>\n",
       "      <td>Mountain Farm</td>\n",
       "    </tr>\n",
       "    <tr>\n",
       "      <th>2</th>\n",
       "      <td>Alexander Moose</td>\n",
       "      <td>Genevieve Gallegos</td>\n",
       "      <td>male</td>\n",
       "      <td>36-45</td>\n",
       "      <td>Mountain Farm</td>\n",
       "    </tr>\n",
       "    <tr>\n",
       "      <th>3</th>\n",
       "      <td>Linda Abraham</td>\n",
       "      <td>Masako Holley</td>\n",
       "      <td>female</td>\n",
       "      <td>36-45</td>\n",
       "      <td>Mountain Farm</td>\n",
       "    </tr>\n",
       "    <tr>\n",
       "      <th>4</th>\n",
       "      <td>Alfred Blocker</td>\n",
       "      <td>Genevieve Gallegos</td>\n",
       "      <td>male</td>\n",
       "      <td>36-45</td>\n",
       "      <td>Mountain Farm</td>\n",
       "    </tr>\n",
       "    <tr>\n",
       "      <th>5</th>\n",
       "      <td>Leona Hill</td>\n",
       "      <td>Masako Holley</td>\n",
       "      <td>female</td>\n",
       "      <td>65+</td>\n",
       "      <td>Black</td>\n",
       "    </tr>\n",
       "    <tr>\n",
       "      <th>6</th>\n",
       "      <td>Brittany Silva</td>\n",
       "      <td>Masako Holley</td>\n",
       "      <td>female</td>\n",
       "      <td>46-55</td>\n",
       "      <td>Mountain Farm</td>\n",
       "    </tr>\n",
       "    <tr>\n",
       "      <th>7</th>\n",
       "      <td>Lawrence Knight</td>\n",
       "      <td>Masako Holley</td>\n",
       "      <td>male</td>\n",
       "      <td>46-55</td>\n",
       "      <td>Mountain Farm</td>\n",
       "    </tr>\n",
       "    <tr>\n",
       "      <th>8</th>\n",
       "      <td>Michael White</td>\n",
       "      <td>Genevieve Gallegos</td>\n",
       "      <td>male</td>\n",
       "      <td>56-65</td>\n",
       "      <td>Mountain Farm</td>\n",
       "    </tr>\n",
       "    <tr>\n",
       "      <th>9</th>\n",
       "      <td>Annette Ealy</td>\n",
       "      <td>Masako Holley</td>\n",
       "      <td>female</td>\n",
       "      <td>36-45</td>\n",
       "      <td>Bailey</td>\n",
       "    </tr>\n",
       "  </tbody>\n",
       "</table>\n",
       "</div>"
      ],
      "text/plain": [
       "             Voter                Vote  Gender    Age         County\n",
       "0   Michael Thomas       Masako Holley    male  36-45  Mountain Farm\n",
       "1      Jeri Cowley  Genevieve Gallegos  female  36-45  Mountain Farm\n",
       "2  Alexander Moose  Genevieve Gallegos    male  36-45  Mountain Farm\n",
       "3    Linda Abraham       Masako Holley  female  36-45  Mountain Farm\n",
       "4   Alfred Blocker  Genevieve Gallegos    male  36-45  Mountain Farm\n",
       "5       Leona Hill       Masako Holley  female    65+          Black\n",
       "6   Brittany Silva       Masako Holley  female  46-55  Mountain Farm\n",
       "7  Lawrence Knight       Masako Holley    male  46-55  Mountain Farm\n",
       "8    Michael White  Genevieve Gallegos    male  56-65  Mountain Farm\n",
       "9     Annette Ealy       Masako Holley  female  36-45         Bailey"
      ]
     },
     "execution_count": 21,
     "metadata": {},
     "output_type": "execute_result"
    }
   ],
   "source": [
    "#How do you link the survey data to the voter rolls?"
   ]
  },
  {
   "cell_type": "code",
   "execution_count": 23,
   "metadata": {},
   "outputs": [
    {
     "data": {
      "text/plain": [
       "(50, 100)"
      ]
     },
     "execution_count": 23,
     "metadata": {},
     "output_type": "execute_result"
    }
   ],
   "source": [
    "Nqualtrics = len(qualtrics)\n",
    "Nsurvey = len(survey_monkey)\n",
    "\n",
    "Nqualtrics, Nsurvey"
   ]
  },
  {
   "cell_type": "markdown",
   "metadata": {},
   "source": [
    "### Q1. The SurveyMonkey data shows Genevieve Gallegos winning 59% vote of 100 people polled and the Qualtrics data shows her losing with 42% vote of 50 people polled.  Which of the following best describes the likelihood that a difference this large (>17%) happened purely by random chance and not an error in the polling process?"
   ]
  },
  {
   "cell_type": "code",
   "execution_count": 24,
   "metadata": {},
   "outputs": [
    {
     "name": "stdout",
     "output_type": "stream",
     "text": [
      "50 polled:  {'68% +/-': 0.07071067811865475, '95% +/-': 0.13859292911256332, '99% +/-': 0.1817264427649427}\n",
      "100 polled:  {'68% +/-': 0.05, '95% +/-': 0.098, '99% +/-': 0.1285}\n"
     ]
    }
   ],
   "source": [
    "\"\"\"\n",
    "Let's calculate the likelihood that a single poll could be off by 17%\n",
    "\"\"\"\n",
    "\n",
    "import numpy as np\n",
    "\n",
    "#how do you calculate a 95% confidence interval?"
   ]
  },
  {
   "cell_type": "markdown",
   "metadata": {},
   "source": [
    "Clearly, it is very unlikely. So (c) is the right answer."
   ]
  },
  {
   "cell_type": "markdown",
   "metadata": {},
   "source": [
    "### Q2. The data provider suspects that the SurveyMonkey dataset is biased. What do you think?"
   ]
  },
  {
   "cell_type": "code",
   "execution_count": 26,
   "metadata": {},
   "outputs": [],
   "source": [
    "#How would you find out if the data is biased or not?"
   ]
  },
  {
   "cell_type": "markdown",
   "metadata": {},
   "source": [
    "Clearly it looks like the dataset is gender-biased. Let's see if this could have happened by chance."
   ]
  },
  {
   "cell_type": "code",
   "execution_count": null,
   "metadata": {},
   "outputs": [],
   "source": [
    "#How likely is this by chance?"
   ]
  },
  {
   "cell_type": "markdown",
   "metadata": {},
   "source": [
    "### Q3. Which of the following best describes the margin of error of the Qualtrics poll"
   ]
  },
  {
   "cell_type": "code",
   "execution_count": 28,
   "metadata": {},
   "outputs": [],
   "source": [
    "#?"
   ]
  },
  {
   "cell_type": "markdown",
   "metadata": {},
   "source": [
    "### Q4.  A news report suggests that Pearle Goodman is dropping out of the election. Is it clear which candidate benefits from her departure?"
   ]
  },
  {
   "cell_type": "code",
   "execution_count": 29,
   "metadata": {},
   "outputs": [],
   "source": [
    "#how would you figure this out?"
   ]
  },
  {
   "cell_type": "markdown",
   "metadata": {},
   "source": [
    "As you can see above Pearle Goodman has the same male-female break down as Genevieve Gallagos. So it would be reasonable to assume her votes would got to her. However, we also accepted arguments that the sample size was too small to tell."
   ]
  },
  {
   "cell_type": "markdown",
   "metadata": {},
   "source": []
  },
  {
   "cell_type": "code",
   "execution_count": null,
   "metadata": {},
   "outputs": [],
   "source": []
  }
 ],
 "metadata": {
  "kernelspec": {
   "display_name": "Python 3",
   "language": "python",
   "name": "python3"
  },
  "language_info": {
   "codemirror_mode": {
    "name": "ipython",
    "version": 3
   },
   "file_extension": ".py",
   "mimetype": "text/x-python",
   "name": "python",
   "nbconvert_exporter": "python",
   "pygments_lexer": "ipython3",
   "version": "3.7.4"
  }
 },
 "nbformat": 4,
 "nbformat_minor": 2
}
