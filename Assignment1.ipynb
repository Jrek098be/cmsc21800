{
 "cells": [
  {
   "cell_type": "markdown",
   "metadata": {},
   "source": [
    "# Assignment 1. Opinion Polling\n",
    "\n",
    "In this assignment, you will be expected to analyze a dataset on your own and answer questions about your findings. \n",
    "\n",
    "You’ve been hired as a consultant to predict how a state school board election will turn out.\n",
    "* There are three candidates and all voters must vote for one of them: Pearle Goodman, Masako Holley, Genevieve Gallegos.\n",
    "* The candidate with the final highest vote count wins the election.\n",
    "* You are given the list of registered voters here:\n",
    "https://github.com/sjyk/cmsc21800/blob/master/voters.csv\n",
    "* The state gives you two samples of data one collected by SurveyMonkey and one collected by Qualtrics:\n",
    "https://github.com/sjyk/cmsc21800/blob/master/survey_monkey.csv \n",
    "https://github.com/sjyk/cmsc21800/blob/master/qualtrics.csv\n",
    "\n",
    "## Initial Steps\n",
    "Let's first get our data analysis environment setup by loading all of the datasets:"
   ]
  },
  {
   "cell_type": "code",
   "execution_count": 33,
   "metadata": {},
   "outputs": [],
   "source": [
    "import pandas as pd\n",
    "\n",
    "voter_roll = pd.read_csv('voters.csv') #reads the data as a csv file"
   ]
  },
  {
   "cell_type": "code",
   "execution_count": 34,
   "metadata": {},
   "outputs": [
    {
     "data": {
      "text/html": [
       "<div>\n",
       "<style scoped>\n",
       "    .dataframe tbody tr th:only-of-type {\n",
       "        vertical-align: middle;\n",
       "    }\n",
       "\n",
       "    .dataframe tbody tr th {\n",
       "        vertical-align: top;\n",
       "    }\n",
       "\n",
       "    .dataframe thead th {\n",
       "        text-align: right;\n",
       "    }\n",
       "</style>\n",
       "<table border=\"1\" class=\"dataframe\">\n",
       "  <thead>\n",
       "    <tr style=\"text-align: right;\">\n",
       "      <th></th>\n",
       "      <th>Voter</th>\n",
       "      <th>Vote</th>\n",
       "    </tr>\n",
       "  </thead>\n",
       "  <tbody>\n",
       "    <tr>\n",
       "      <th>0</th>\n",
       "      <td>Robert Wiltse</td>\n",
       "      <td>Genevieve Gallegos</td>\n",
       "    </tr>\n",
       "    <tr>\n",
       "      <th>1</th>\n",
       "      <td>Ellen Delrio</td>\n",
       "      <td>Pearle Goodman</td>\n",
       "    </tr>\n",
       "    <tr>\n",
       "      <th>2</th>\n",
       "      <td>Armando Dawson</td>\n",
       "      <td>Genevieve Gallegos</td>\n",
       "    </tr>\n",
       "    <tr>\n",
       "      <th>3</th>\n",
       "      <td>Sarah Ybarra</td>\n",
       "      <td>Masako Holley</td>\n",
       "    </tr>\n",
       "    <tr>\n",
       "      <th>4</th>\n",
       "      <td>Roger Taylor</td>\n",
       "      <td>Genevieve Gallegos</td>\n",
       "    </tr>\n",
       "    <tr>\n",
       "      <th>5</th>\n",
       "      <td>Ricky Applewhite</td>\n",
       "      <td>Genevieve Gallegos</td>\n",
       "    </tr>\n",
       "    <tr>\n",
       "      <th>6</th>\n",
       "      <td>Rufus Harrison</td>\n",
       "      <td>Genevieve Gallegos</td>\n",
       "    </tr>\n",
       "    <tr>\n",
       "      <th>7</th>\n",
       "      <td>Emmitt Engelking</td>\n",
       "      <td>Genevieve Gallegos</td>\n",
       "    </tr>\n",
       "    <tr>\n",
       "      <th>8</th>\n",
       "      <td>Michael Curry</td>\n",
       "      <td>Masako Holley</td>\n",
       "    </tr>\n",
       "    <tr>\n",
       "      <th>9</th>\n",
       "      <td>Elmer Jones</td>\n",
       "      <td>Genevieve Gallegos</td>\n",
       "    </tr>\n",
       "  </tbody>\n",
       "</table>\n",
       "</div>"
      ],
      "text/plain": [
       "              Voter                Vote\n",
       "0     Robert Wiltse  Genevieve Gallegos\n",
       "1      Ellen Delrio      Pearle Goodman\n",
       "2    Armando Dawson  Genevieve Gallegos\n",
       "3      Sarah Ybarra       Masako Holley\n",
       "4      Roger Taylor  Genevieve Gallegos\n",
       "5  Ricky Applewhite  Genevieve Gallegos\n",
       "6    Rufus Harrison  Genevieve Gallegos\n",
       "7  Emmitt Engelking  Genevieve Gallegos\n",
       "8     Michael Curry       Masako Holley\n",
       "9       Elmer Jones  Genevieve Gallegos"
      ]
     },
     "execution_count": 34,
     "metadata": {},
     "output_type": "execute_result"
    }
   ],
   "source": [
    "survey_monkey = pd.read_csv('survey_monkey.csv')\n",
    "qualtrics = pd.read_csv('qualtrics.csv')\n",
    "\n",
    "survey_monkey[:10]"
   ]
  },
  {
   "cell_type": "code",
   "execution_count": 40,
   "metadata": {},
   "outputs": [
    {
     "data": {
      "text/plain": [
       "{'Genevieve Gallegos', 'Masako Holley', 'Pearle Goodman'}"
      ]
     },
     "execution_count": 40,
     "metadata": {},
     "output_type": "execute_result"
    }
   ],
   "source": [
    "candidates = set(survey_monkey['Vote']).union(set(qualtrics['Vote']))\n",
    "candidates"
   ]
  },
  {
   "cell_type": "code",
   "execution_count": 44,
   "metadata": {},
   "outputs": [
    {
     "data": {
      "text/html": [
       "<div>\n",
       "<style scoped>\n",
       "    .dataframe tbody tr th:only-of-type {\n",
       "        vertical-align: middle;\n",
       "    }\n",
       "\n",
       "    .dataframe tbody tr th {\n",
       "        vertical-align: top;\n",
       "    }\n",
       "\n",
       "    .dataframe thead th {\n",
       "        text-align: right;\n",
       "    }\n",
       "</style>\n",
       "<table border=\"1\" class=\"dataframe\">\n",
       "  <thead>\n",
       "    <tr style=\"text-align: right;\">\n",
       "      <th></th>\n",
       "      <th>Voter</th>\n",
       "    </tr>\n",
       "    <tr>\n",
       "      <th>Vote</th>\n",
       "      <th></th>\n",
       "    </tr>\n",
       "  </thead>\n",
       "  <tbody>\n",
       "    <tr>\n",
       "      <th>Genevieve Gallegos</th>\n",
       "      <td>0.59</td>\n",
       "    </tr>\n",
       "    <tr>\n",
       "      <th>Masako Holley</th>\n",
       "      <td>0.35</td>\n",
       "    </tr>\n",
       "    <tr>\n",
       "      <th>Pearle Goodman</th>\n",
       "      <td>0.06</td>\n",
       "    </tr>\n",
       "  </tbody>\n",
       "</table>\n",
       "</div>"
      ],
      "text/plain": [
       "                    Voter\n",
       "Vote                     \n",
       "Genevieve Gallegos   0.59\n",
       "Masako Holley        0.35\n",
       "Pearle Goodman       0.06"
      ]
     },
     "execution_count": 44,
     "metadata": {},
     "output_type": "execute_result"
    }
   ],
   "source": [
    "survey_monkey.groupby('Vote').count()/survey_monkey['Vote'].count()"
   ]
  },
  {
   "cell_type": "code",
   "execution_count": 43,
   "metadata": {},
   "outputs": [
    {
     "data": {
      "text/plain": [
       "Masako Holley         0.50\n",
       "Genevieve Gallegos    0.42\n",
       "Pearle Goodman        0.08\n",
       "Name: Vote, dtype: float64"
      ]
     },
     "execution_count": 43,
     "metadata": {},
     "output_type": "execute_result"
    }
   ],
   "source": [
    "qualtrics['Vote'].value_counts(normalize=True)"
   ]
  },
  {
   "cell_type": "code",
   "execution_count": 45,
   "metadata": {},
   "outputs": [
    {
     "data": {
      "text/html": [
       "<div>\n",
       "<style scoped>\n",
       "    .dataframe tbody tr th:only-of-type {\n",
       "        vertical-align: middle;\n",
       "    }\n",
       "\n",
       "    .dataframe tbody tr th {\n",
       "        vertical-align: top;\n",
       "    }\n",
       "\n",
       "    .dataframe thead th {\n",
       "        text-align: right;\n",
       "    }\n",
       "</style>\n",
       "<table border=\"1\" class=\"dataframe\">\n",
       "  <thead>\n",
       "    <tr style=\"text-align: right;\">\n",
       "      <th></th>\n",
       "      <th>Voter</th>\n",
       "      <th>Vote</th>\n",
       "      <th>Gender</th>\n",
       "      <th>Age</th>\n",
       "      <th>County</th>\n",
       "    </tr>\n",
       "  </thead>\n",
       "  <tbody>\n",
       "    <tr>\n",
       "      <th>0</th>\n",
       "      <td>Michael Thomas</td>\n",
       "      <td>Masako Holley</td>\n",
       "      <td>male</td>\n",
       "      <td>36-45</td>\n",
       "      <td>Mountain Farm</td>\n",
       "    </tr>\n",
       "    <tr>\n",
       "      <th>1</th>\n",
       "      <td>Jeri Cowley</td>\n",
       "      <td>Genevieve Gallegos</td>\n",
       "      <td>female</td>\n",
       "      <td>36-45</td>\n",
       "      <td>Mountain Farm</td>\n",
       "    </tr>\n",
       "    <tr>\n",
       "      <th>2</th>\n",
       "      <td>Alexander Moose</td>\n",
       "      <td>Genevieve Gallegos</td>\n",
       "      <td>male</td>\n",
       "      <td>36-45</td>\n",
       "      <td>Mountain Farm</td>\n",
       "    </tr>\n",
       "    <tr>\n",
       "      <th>3</th>\n",
       "      <td>Linda Abraham</td>\n",
       "      <td>Masako Holley</td>\n",
       "      <td>female</td>\n",
       "      <td>36-45</td>\n",
       "      <td>Mountain Farm</td>\n",
       "    </tr>\n",
       "    <tr>\n",
       "      <th>4</th>\n",
       "      <td>Alfred Blocker</td>\n",
       "      <td>Genevieve Gallegos</td>\n",
       "      <td>male</td>\n",
       "      <td>36-45</td>\n",
       "      <td>Mountain Farm</td>\n",
       "    </tr>\n",
       "    <tr>\n",
       "      <th>5</th>\n",
       "      <td>Leona Hill</td>\n",
       "      <td>Masako Holley</td>\n",
       "      <td>female</td>\n",
       "      <td>65+</td>\n",
       "      <td>Black</td>\n",
       "    </tr>\n",
       "    <tr>\n",
       "      <th>6</th>\n",
       "      <td>Brittany Silva</td>\n",
       "      <td>Masako Holley</td>\n",
       "      <td>female</td>\n",
       "      <td>46-55</td>\n",
       "      <td>Mountain Farm</td>\n",
       "    </tr>\n",
       "    <tr>\n",
       "      <th>7</th>\n",
       "      <td>Lawrence Knight</td>\n",
       "      <td>Masako Holley</td>\n",
       "      <td>male</td>\n",
       "      <td>46-55</td>\n",
       "      <td>Mountain Farm</td>\n",
       "    </tr>\n",
       "    <tr>\n",
       "      <th>8</th>\n",
       "      <td>Michael White</td>\n",
       "      <td>Genevieve Gallegos</td>\n",
       "      <td>male</td>\n",
       "      <td>56-65</td>\n",
       "      <td>Mountain Farm</td>\n",
       "    </tr>\n",
       "    <tr>\n",
       "      <th>9</th>\n",
       "      <td>Annette Ealy</td>\n",
       "      <td>Masako Holley</td>\n",
       "      <td>female</td>\n",
       "      <td>36-45</td>\n",
       "      <td>Bailey</td>\n",
       "    </tr>\n",
       "  </tbody>\n",
       "</table>\n",
       "</div>"
      ],
      "text/plain": [
       "             Voter                Vote  Gender    Age         County\n",
       "0   Michael Thomas       Masako Holley    male  36-45  Mountain Farm\n",
       "1      Jeri Cowley  Genevieve Gallegos  female  36-45  Mountain Farm\n",
       "2  Alexander Moose  Genevieve Gallegos    male  36-45  Mountain Farm\n",
       "3    Linda Abraham       Masako Holley  female  36-45  Mountain Farm\n",
       "4   Alfred Blocker  Genevieve Gallegos    male  36-45  Mountain Farm\n",
       "5       Leona Hill       Masako Holley  female    65+          Black\n",
       "6   Brittany Silva       Masako Holley  female  46-55  Mountain Farm\n",
       "7  Lawrence Knight       Masako Holley    male  46-55  Mountain Farm\n",
       "8    Michael White  Genevieve Gallegos    male  56-65  Mountain Farm\n",
       "9     Annette Ealy       Masako Holley  female  36-45         Bailey"
      ]
     },
     "execution_count": 45,
     "metadata": {},
     "output_type": "execute_result"
    }
   ],
   "source": [
    "survey_monkey = survey_monkey.merge(voter_roll)\n",
    "qualtrics = qualtrics.merge(voter_roll)\n",
    "qualtrics[:10]"
   ]
  },
  {
   "cell_type": "code",
   "execution_count": 47,
   "metadata": {},
   "outputs": [
    {
     "data": {
      "text/plain": [
       "(50, 100)"
      ]
     },
     "execution_count": 47,
     "metadata": {},
     "output_type": "execute_result"
    }
   ],
   "source": [
    "Nqualtrics = len(qualtrics)\n",
    "Nsurvey = len(survey_monkey)\n",
    "\n",
    "Nqualtrics, Nsurvey"
   ]
  },
  {
   "cell_type": "markdown",
   "metadata": {},
   "source": [
    "### Q1. The SurveyMonkey data shows Genevieve Gallegos winning 59% vote of 100 people polled and the Qualtrics data shows her losing with 42% vote of 50 people polled.  Which of the following best describes the likelihood that a difference this large (>17%) happened purely by random chance and not an error in the polling process?"
   ]
  },
  {
   "cell_type": "code",
   "execution_count": 48,
   "metadata": {},
   "outputs": [
    {
     "name": "stdout",
     "output_type": "stream",
     "text": [
      "50 polled:  {'68% +/-': 0.07071067811865475, '95% +/-': 0.13859292911256332, '99% +/-': 0.1817264427649427}\n",
      "100 polled:  {'68% +/-': 0.05, '95% +/-': 0.098, '99% +/-': 0.1285}\n"
     ]
    }
   ],
   "source": [
    "\"\"\"\n",
    "Let's calculate the likelihood that a single poll could be off by 17%\n",
    "\"\"\"\n",
    "\n",
    "import numpy as np\n",
    "\n",
    "#the maximum variance (b-a)^2/4 \n",
    "MAX_VARIANCE = 0.25\n",
    "\n",
    "#calculates the confidence interval for any size K\n",
    "def ci(size):\n",
    "    se = np.sqrt(MAX_VARIANCE/size)\n",
    "    return {'68% +/-': se, '95% +/-': 1.96*se, '99% +/-': 2.57*se}\n",
    "\n",
    "print('50 polled: ', ci(Nqualtrics))\n",
    "print('100 polled: ', ci(Nsurvey))"
   ]
  },
  {
   "cell_type": "markdown",
   "metadata": {},
   "source": [
    "Clearly, it is very unlikely. So (c) is the right answer."
   ]
  },
  {
   "cell_type": "markdown",
   "metadata": {},
   "source": [
    "### Q2. The data provider suspects that the SurveyMonkey dataset is biased. What do you think?"
   ]
  },
  {
   "cell_type": "code",
   "execution_count": 49,
   "metadata": {},
   "outputs": [
    {
     "name": "stdout",
     "output_type": "stream",
     "text": [
      "County\n",
      "Bailey           0.03\n",
      "Black            0.08\n",
      "Mountain Farm    0.79\n",
      "Riverside        0.10\n",
      "Name: County, dtype: float64\n",
      "County\n",
      "Bailey           0.06\n",
      "Black            0.02\n",
      "Mountain Farm    0.80\n",
      "Riverside        0.12\n",
      "Name: County, dtype: float64\n",
      "\n",
      "Age\n",
      "26-35    0.04\n",
      "36-45    0.16\n",
      "46-55    0.47\n",
      "56-65    0.15\n",
      "65+      0.18\n",
      "Name: Age, dtype: float64\n",
      "Age\n",
      "26-35    0.06\n",
      "36-45    0.22\n",
      "46-55    0.34\n",
      "56-65    0.26\n",
      "65+      0.12\n",
      "Name: Age, dtype: float64\n",
      "\n",
      "Gender\n",
      "female    0.23\n",
      "male      0.77\n",
      "Name: Gender, dtype: float64\n",
      "Gender\n",
      "female    0.42\n",
      "male      0.58\n",
      "Name: Gender, dtype: float64\n",
      "\n"
     ]
    }
   ],
   "source": [
    "cols = ['County', 'Age', 'Gender']\n",
    "for col in cols:\n",
    "    print(survey_monkey.groupby(col)[col].count()/100)\n",
    "    print(qualtrics.groupby(col)[col].count()/50)\n",
    "    print()"
   ]
  },
  {
   "cell_type": "markdown",
   "metadata": {},
   "source": [
    "Clearly it looks like the dataset is gender-biased. Let's see if this could have happened by chance."
   ]
  },
  {
   "cell_type": "code",
   "execution_count": 51,
   "metadata": {},
   "outputs": [
    {
     "name": "stdout",
     "output_type": "stream",
     "text": [
      "Number of se's from the expected value 4.968300000000001\n"
     ]
    }
   ],
   "source": [
    "voter_roll.groupby('Gender')['Gender'].count()/4239\n",
    "# There are 0.521585 % men in the whole population\n",
    "\n",
    "observed_difference = 0.77-0.521585\n",
    "#calculate the worst case standard error\n",
    "se = np.sqrt(MAX_VARIANCE/100)\n",
    "print('Number of se\\'s from the expected value', observed_difference/se)"
   ]
  },
  {
   "cell_type": "markdown",
   "metadata": {},
   "source": [
    "### Q3. Which of the following best describes the margin of error of the Qualtrics poll"
   ]
  },
  {
   "cell_type": "code",
   "execution_count": 52,
   "metadata": {},
   "outputs": [
    {
     "name": "stdout",
     "output_type": "stream",
     "text": [
      "50 polled:  {'68% +/-': 0.07071067811865475, '95% +/-': 0.13859292911256332, '99% +/-': 0.1817264427649427}\n"
     ]
    }
   ],
   "source": [
    "print('50 polled: ', ci(Nqualtrics))"
   ]
  },
  {
   "cell_type": "markdown",
   "metadata": {},
   "source": [
    "### Q4.  A news report suggests that Pearle Goodman is dropping out of the election. Is it clear which candidate benefits from her departure?"
   ]
  },
  {
   "cell_type": "code",
   "execution_count": 53,
   "metadata": {},
   "outputs": [
    {
     "name": "stdout",
     "output_type": "stream",
     "text": [
      "--- Breakdown for Genevieve Gallegos ---\n",
      "County\n",
      "Bailey           0.025\n",
      "Black            0.075\n",
      "Mountain Farm    0.775\n",
      "Riverside        0.125\n",
      "Name: County, dtype: float64\n",
      "Age\n",
      "26-35    0.0750\n",
      "36-45    0.1625\n",
      "46-55    0.4125\n",
      "56-65    0.1875\n",
      "65+      0.1625\n",
      "Name: Age, dtype: float64\n",
      "Gender\n",
      "female    0.0875\n",
      "male      0.9125\n",
      "Name: Gender, dtype: float64\n",
      "++\n",
      "\n",
      "--- Breakdown for Masako Holley ---\n",
      "County\n",
      "Bailey           0.066667\n",
      "Black            0.050000\n",
      "Mountain Farm    0.800000\n",
      "Riverside        0.083333\n",
      "Name: County, dtype: float64\n",
      "Age\n",
      "26-35    0.016667\n",
      "36-45    0.200000\n",
      "46-55    0.450000\n",
      "56-65    0.166667\n",
      "65+      0.166667\n",
      "Name: Age, dtype: float64\n",
      "Gender\n",
      "female    0.6\n",
      "male      0.4\n",
      "Name: Gender, dtype: float64\n",
      "++\n",
      "\n",
      "--- Breakdown for Pearle Goodman ---\n",
      "County\n",
      "Mountain Farm    0.9\n",
      "Riverside        0.1\n",
      "Name: County, dtype: float64\n",
      "Age\n",
      "36-45    0.2\n",
      "46-55    0.4\n",
      "56-65    0.3\n",
      "65+      0.1\n",
      "Name: Age, dtype: float64\n",
      "Gender\n",
      "female    0.1\n",
      "male      0.9\n",
      "Name: Gender, dtype: float64\n",
      "++\n",
      "\n"
     ]
    }
   ],
   "source": [
    "combined_dataset = pd.concat([survey_monkey, qualtrics])\n",
    "\n",
    "candidates = ['Genevieve Gallegos', 'Masako Holley', 'Pearle Goodman']\n",
    "for cand in candidates:\n",
    "    filtered = combined_dataset[combined_dataset['Vote'] == cand] #get those rows that voted for each candidate\n",
    "    \n",
    "    print(\"--- Breakdown for\", cand ,\"---\")\n",
    "    \n",
    "    cols = ['County', 'Age', 'Gender']\n",
    "    for col in cols:\n",
    "        \n",
    "        print(filtered.groupby(col)[col].count()/len(filtered))\n",
    "    print(\"++\")\n",
    "    print()"
   ]
  },
  {
   "cell_type": "markdown",
   "metadata": {},
   "source": [
    "As you can see above Pearle Goodman has the same male-female break down as Genevieve Gallagos. So it would be reasonable to assume her votes would got to her. However, we also accepted arguments that the sample size was too small to tell."
   ]
  },
  {
   "cell_type": "markdown",
   "metadata": {},
   "source": []
  },
  {
   "cell_type": "code",
   "execution_count": null,
   "metadata": {},
   "outputs": [],
   "source": []
  }
 ],
 "metadata": {
  "kernelspec": {
   "display_name": "Python 3",
   "language": "python",
   "name": "python3"
  },
  "language_info": {
   "codemirror_mode": {
    "name": "ipython",
    "version": 3
   },
   "file_extension": ".py",
   "mimetype": "text/x-python",
   "name": "python",
   "nbconvert_exporter": "python",
   "pygments_lexer": "ipython3",
   "version": "3.7.4"
  }
 },
 "nbformat": 4,
 "nbformat_minor": 2
}
